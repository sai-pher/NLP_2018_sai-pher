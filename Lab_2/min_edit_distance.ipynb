{
 "cells": [
  {
   "cell_type": "code",
   "execution_count": 21,
   "metadata": {},
   "outputs": [],
   "source": [
    "import numpy as np\n",
    "import sys\n",
    "\n",
    "\n",
    "def del_cost(source):\n",
    "    \"\"\"\n",
    "    Cost to delete a letter from a given string.\n",
    "\n",
    "    :param source: The proposed letter to delete.\n",
    "    :return: The cost to delete\n",
    "    \"\"\"\n",
    "\n",
    "    # future proofing: created to allow for unique implementation edits at latter point.\n",
    "    return 1\n",
    "\n",
    "\n",
    "def ins_cost(source):\n",
    "    \"\"\"\n",
    "    Cost to insert a letter from a given string.\n",
    "\n",
    "    :param source: The proposed letter to insert.\n",
    "    :return: The cost to delete\n",
    "    \"\"\"\n",
    "\n",
    "    # future proofing: created to allow for unique implementation edits at latter point.\n",
    "    return 1\n",
    "\n",
    "\n",
    "def sub_cost(source, target):\n",
    "    \"\"\"\n",
    "    Cost to substitute a letter from a given string.\n",
    "\n",
    "    :param source: The proposed letter to substitute.\n",
    "    :param target: The proposed letter to substituted.\n",
    "    :return: The cost to substitute\n",
    "    \"\"\"\n",
    "\n",
    "    # future proofing: created to allow for unique implementation edits at latter point.\n",
    "    if source == target:\n",
    "        return 0\n",
    "    else:\n",
    "        return 2\n",
    "\n",
    "\n",
    "def min_edit_distance(source, target):\n",
    "    \"\"\"\n",
    "    Function to find minimum edit distance between two given strings.\n",
    "\n",
    "    :param source: The original string to be edited.\n",
    "    :param target: The string to be edited to.\n",
    "    :return: The minimum edit distance.\n",
    "    \"\"\"\n",
    "    n = len(source)\n",
    "    m = len(target)\n",
    "    d = np.zeros(shape=[n + 1, m + 1])\n",
    "\n",
    "    # Initialization: the zeroth row and column is the distance from the empty string\n",
    "    for i in range(1, n + 1):\n",
    "        d[i, 0] = d[i - 1, 0] + del_cost(source[i-1])\n",
    "    for j in range(1, m + 1):\n",
    "        d[0, j] = d[0, j - 1] + ins_cost(target[j-1])\n",
    "\n",
    "    # Recurrence relation:\n",
    "    for i in range(1, n + 1):\n",
    "        for j in range(1, m + 1):\n",
    "            d[i, j] = min(d[i - 1, j] + del_cost(source[i - 1]),\n",
    "                          d[i - 1, j - 1] + sub_cost(source[i - 1], target[j - 1]),\n",
    "                          d[i, j - 1] + ins_cost(target[j - 1]))\n",
    "\n",
    "    print(\"Edit Distance Matrix: \\n\\n{}\\n\".format(d))\n",
    "\n",
    "    return d[n, m]"
   ]
  },
  {
   "cell_type": "code",
   "execution_count": 28,
   "metadata": {},
   "outputs": [
    {
     "name": "stdout",
     "output_type": "stream",
     "text": [
      "Source: red\n",
      "Target: ded\n",
      "Edit Distance Matrix: \n",
      "\n",
      "[[0. 1. 2. 3.]\n",
      " [1. 2. 3. 4.]\n",
      " [2. 3. 2. 3.]\n",
      " [3. 2. 3. 2.]]\n",
      "\n",
      "Minimum Edit Distance between red and ded is 2.0.\n"
     ]
    }
   ],
   "source": [
    "# Modified to allow for browser input\n",
    "\n",
    "in_p = input(\"Source: \"), input(\"Target: \") # sys.argv \n",
    "r = min_edit_distance(str(in_p[0]), str(in_p[1]))\n",
    "print(\"Minimum Edit Distance between *{}* and *{}* is {}.\".format(str(in_p[0]), str(in_p[1]), r))"
   ]
  },
  {
   "cell_type": "code",
   "execution_count": null,
   "metadata": {},
   "outputs": [],
   "source": []
  }
 ],
 "metadata": {
  "kernelspec": {
   "display_name": "Python 3",
   "language": "python",
   "name": "python3"
  },
  "language_info": {
   "codemirror_mode": {
    "name": "ipython",
    "version": 3
   },
   "file_extension": ".py",
   "mimetype": "text/x-python",
   "name": "python",
   "nbconvert_exporter": "python",
   "pygments_lexer": "ipython3",
   "version": "3.6.2"
  }
 },
 "nbformat": 4,
 "nbformat_minor": 2
}
