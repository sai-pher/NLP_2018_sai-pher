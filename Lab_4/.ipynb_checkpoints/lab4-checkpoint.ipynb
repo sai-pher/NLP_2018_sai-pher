{
 "cells": [
  {
   "cell_type": "code",
   "execution_count": 1,
   "metadata": {},
   "outputs": [],
   "source": [
    "import pandas as pd\n",
    "import pickle\n",
    "import sys\n",
    "from sklearn.feature_extraction.text import CountVectorizer, TfidfVectorizer\n",
    "from sklearn.linear_model import LogisticRegression\n",
    "from sklearn.model_selection import train_test_split\n",
    "from sklearn.naive_bayes import MultinomialNB\n",
    "from sklearn.metrics import accuracy_score\n",
    "import nltk\n",
    "from nltk.stem.lancaster import LancasterStemmer"
   ]
  },
  {
   "cell_type": "code",
   "execution_count": 2,
   "metadata": {},
   "outputs": [],
   "source": [
    "vectoriser_file = \"vectoriser.pickle\"\n",
    "tfvectoriser_file = \"tfvectoriser.pickle\"\n",
    "regressor_file = \"regressor.pickle\"\n",
    "nbc_file = \"nbc.pickle\""
   ]
  },
  {
   "cell_type": "code",
   "execution_count": 3,
   "metadata": {},
   "outputs": [],
   "source": [
    "def save(file, obj):\n",
    "    with open(file, \"wb\") as f:\n",
    "        pickle.dump(obj, f)\n",
    "\n",
    "def load(file):\n",
    "    with open(file, \"rb\") as f:\n",
    "        model = pickle.load(f)\n",
    "    return model\n",
    "\n",
    "def check_file(*files):\n",
    "    flag = True\n",
    "    for file in files:\n",
    "        try:\n",
    "            f = open(file)\n",
    "            f.close()\n",
    "        except FileNotFoundError:\n",
    "            flag = False\n",
    "            pass\n",
    "   \n",
    "    return flag\n",
    "\n",
    "def write(data, file=\"results.txt\"):\n",
    "    with open(file, \"w\") as f:\n",
    "        for i in data:\n",
    "            f.write(\"{}\\n\".format(i))"
   ]
  },
  {
   "cell_type": "code",
   "execution_count": 4,
   "metadata": {},
   "outputs": [],
   "source": [
    "def read_data(*files):\n",
    "    data = []\n",
    "    labels = []\n",
    "    for file in files:\n",
    "        temp = pd.read_csv(file, sep='\\t', header=None)\n",
    "        data.append(temp[0])\n",
    "        labels.append(temp[1])\n",
    "        \n",
    "    data = pd.concat(data)\n",
    "    labels = pd.concat(labels)\n",
    "       \n",
    "    vectorizer = CountVectorizer(analyzer='word', lowercase=False)\n",
    "    features = vectorizer.fit_transform(data)\n",
    "    \n",
    "    save(vectoriser_file, vectorizer)\n",
    "    \n",
    "    features = features.toarray()\n",
    "    \n",
    "    return data, labels, features\n",
    "\n",
    "\n",
    "def read_data_n(*files):\n",
    "    data = []\n",
    "    labels = []\n",
    "    for file in files:\n",
    "        temp = pd.read_csv(file, sep='\\t', header=None)\n",
    "        \n",
    "        data.append(temp[0])\n",
    "        labels.append(temp[1])\n",
    "    \n",
    "        \n",
    "    data = pd.concat(data)\n",
    "    labels = pd.concat(labels)\n",
    "        \n",
    "    vectorizer = TfidfVectorizer(use_idf=True, analyzer='word', strip_accents='ascii', lowercase=True, stop_words='english')\n",
    "    features = vectorizer.fit_transform(data)\n",
    "    \n",
    "    save(tfvectoriser_file, vectorizer)\n",
    "    \n",
    "    features = features.toarray()\n",
    "    \n",
    "    return data, labels, features\n",
    "    \n",
    "    \n",
    "def read_test_data(*files, state):\n",
    "    data = []\n",
    "\n",
    "    for file in files:\n",
    "        temp = pd.read_csv(file, sep='\\t', header=None)\n",
    "        data.append(temp[0])\n",
    "        \n",
    "    data = pd.concat(data)\n",
    "    \n",
    "    if check_file(vectoriser_file, tfvectoriser_file):\n",
    "        if state == 'n':\n",
    "            vect = load(tfvectoriser_file)\n",
    "        elif state == 'u':\n",
    "            vect = load(vectoriser_file)\n",
    "            \n",
    "        features = vect.transform(data)\n",
    "        \n",
    "    return data, features\n",
    "    "
   ]
  },
  {
   "cell_type": "code",
   "execution_count": 5,
   "metadata": {},
   "outputs": [],
   "source": [
    "def regressor(x, y, _x, _y):\n",
    "    \n",
    "    regressor = LogisticRegression()\n",
    "    regressor = regressor.fit(X=x, y=y)\n",
    "    y_pred = regressor.predict(_x)\n",
    "    res = accuracy_score(_y, y_pred)\n",
    "    \n",
    "    save(regressor_file, regressor)\n",
    "    \n",
    "    return y_pred, res\n",
    "    \n",
    "def NB_Classifier(x, y, _x, _y):\n",
    "    nbc = MultinomialNB()\n",
    "    nbc = nbc.fit(X=x, y=y)\n",
    "    y_pred = nbc.predict(_x)\n",
    "    res = accuracy_score(_y, y_pred)\n",
    "    \n",
    "    save(nbc_file, nbc)\n",
    "    \n",
    "    return y_pred, res"
   ]
  },
  {
   "cell_type": "code",
   "execution_count": null,
   "metadata": {},
   "outputs": [],
   "source": []
  },
  {
   "cell_type": "code",
   "execution_count": 6,
   "metadata": {},
   "outputs": [
    {
     "name": "stderr",
     "output_type": "stream",
     "text": [
      "/home/sai-pher/global_env/lib/python3.6/site-packages/sklearn/linear_model/logistic.py:432: FutureWarning: Default solver will be changed to 'lbfgs' in 0.22. Specify a solver to silence this warning.\n",
      "  FutureWarning)\n"
     ]
    },
    {
     "name": "stdout",
     "output_type": "stream",
     "text": [
      "Unnormalised Linear Regression: 81.091%\n",
      "Unnormalised Naive Bayes: 78.545%\n",
      "====================================\n",
      "Normalised Linear Regression: 81.636%\n",
      "Normalised Naive Bayes: 79.091%\n"
     ]
    },
    {
     "name": "stderr",
     "output_type": "stream",
     "text": [
      "/home/sai-pher/global_env/lib/python3.6/site-packages/sklearn/linear_model/logistic.py:432: FutureWarning: Default solver will be changed to 'lbfgs' in 0.22. Specify a solver to silence this warning.\n",
      "  FutureWarning)\n"
     ]
    }
   ],
   "source": [
    "amazon = \"data/amazon_cells_labelled.txt\"\n",
    "imdb = \"data/imdb_labelled.txt\"\n",
    "yelp = \"data/yelp_labelled.txt\"\n",
    "\n",
    "def train():\n",
    "    data, lables, features = read_data(amazon, imdb, yelp)\n",
    "    x_train, x_test, y_train, y_test = train_test_split(features, lables, test_size=0.2, random_state=0)\n",
    "    \n",
    "    pred, res = regressor(x_train, y_train, x_test, y_test)\n",
    "    print(\"Unnormalised Linear Regression: {}%\".format(round(res*100, 3)))\n",
    "    pred, res = NB_Classifier(x_train, y_train, x_test, y_test)\n",
    "    print(\"Unnormalised Naive Bayes: {}%\".format(round(res*100, 3)))\n",
    "    \n",
    "    print(\"====================================\")\n",
    "    \n",
    "    data, lables, features = read_data_n(amazon, imdb, yelp)\n",
    "    x_train, x_test, y_train, y_test = train_test_split(features, lables, test_size=0.2, random_state=0)\n",
    "    \n",
    "    pred, res = regressor(x_train, y_train, x_test, y_test)\n",
    "    print(\"Normalised Linear Regression: {}%\".format(round(res*100, 3)))\n",
    "    pred, res = NB_Classifier(x_train, y_train, x_test, y_test)\n",
    "    print(\"Normalised Naive Bayes: {}%\".format(round(res*100, 3)))\n",
    "    \n",
    "train()\n"
   ]
  },
  {
   "cell_type": "code",
   "execution_count": null,
   "metadata": {
    "scrolled": true
   },
   "outputs": [],
   "source": [
    " "
   ]
  },
  {
   "cell_type": "code",
   "execution_count": 7,
   "metadata": {},
   "outputs": [],
   "source": [
    "def main(argv):\n",
    "    while not check_file(regressor_file, nbc_file, vectoriser_file):\n",
    "        print(\"Some files are unavailable. Retraining.\")\n",
    "        train()\n",
    "        print('Retraining successful!')\n",
    "\n",
    "    regressor = load(regressor_file)\n",
    "    nbc = load(nbc_file)\n",
    "\n",
    "    if argv[1] == \"nb\" and argv[2] == \"u\":\n",
    "        data, features = read_test_data(\"data/\"+argv[3], \"u\")\n",
    "        y = nbc.predict(features)\n",
    "        write(y)\n",
    "        \n",
    "    if argv[1] == \"nb\" and argv[2] == \"n\":\n",
    "        data, features = read_test_data(\"data/\"+argv[3], \"n\")\n",
    "        y = nbc.predict(features)\n",
    "        write(y)\n",
    "        \n",
    "    if argv[1] == \"lr\" and argv[2] == \"u\":\n",
    "        data, features = read_test_data(\"data/\"+argv[3], \"u\")\n",
    "        y = regressor.predict(features)\n",
    "        write(y)\n",
    "        \n",
    "    if argv[1] == \"lr\" and argv[2] == \"u\":\n",
    "        data, features = read_test_data(\"data/\"+argv[3], \"n\")\n",
    "        y = regressor.predict(features)\n",
    "        write(y)\n",
    "        \n",
    "main(sys.argv)\n",
    "        \n"
   ]
  },
  {
   "cell_type": "code",
   "execution_count": null,
   "metadata": {},
   "outputs": [],
   "source": []
  }
 ],
 "metadata": {
  "kernelspec": {
   "display_name": "Python 3",
   "language": "python",
   "name": "python3"
  },
  "language_info": {
   "codemirror_mode": {
    "name": "ipython",
    "version": 3
   },
   "file_extension": ".py",
   "mimetype": "text/x-python",
   "name": "python",
   "nbconvert_exporter": "python",
   "pygments_lexer": "ipython3",
   "version": "3.6.6"
  }
 },
 "nbformat": 4,
 "nbformat_minor": 1
}
