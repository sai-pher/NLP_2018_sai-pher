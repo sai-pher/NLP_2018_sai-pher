{
 "cells": [
  {
   "cell_type": "markdown",
   "metadata": {},
   "source": [
    "# Naive Bayes Sentiment Classification Program"
   ]
  },
  {
   "cell_type": "code",
   "execution_count": null,
   "metadata": {
    "scrolled": true
   },
   "outputs": [],
   "source": [
    "# unit test classifier \n",
    "import sys\n",
    "import time\n",
    "import matplotlib.pyplot as plt\n",
    "import util\n",
    "\n",
    "amazon = \"amazon_cells_labelled.txt\"\n",
    "imdb = \"imdb_labelled.txt\"\n",
    "yelp = \"yelp_labelled.txt\"\n",
    "test_file = input(\"enter test file: \")  # sys.argv[1]\n",
    "model = None"
   ]
  },
  {
   "cell_type": "code",
   "execution_count": null,
   "metadata": {},
   "outputs": [],
   "source": [
    "# test accuracy over several runs\n",
    "\n",
    "if util.check_file():\n",
    "    print(\"Loading Existing model....\")\n",
    "    model = util.load()\n",
    "    print(\"Completed!\")\n",
    "else:\n",
    "    print(\"Creating new model.....\")\n",
    "\n",
    "    if not util.check_file(amazon, imdb, yelp):\n",
    "        print(\"Training files not available.\")\n",
    "\n",
    "    else:\n",
    "        v2 = util.NB_DataHandler(amazon, imdb, yelp, quiet=False)\n",
    "        res = v2.test()\n",
    "        print(\"Initial Train Accuracy:\\t{}%\".format(str(round(res, 3))))\n",
    "\n",
    "        # test accuracy over several runs\n",
    "\n",
    "        runs = 1000\n",
    "        run = None\n",
    "        max_res = 0\n",
    "        vals = []\n",
    "        print(\"Selecting best model for unit testing out of {} runs...\\nAverage Wait time => {}m:{}s\"\n",
    "              .format(runs, int((1.7*runs)/60), (20*runs)%60))\n",
    "        start = time.time()\n",
    "        for i in range(1, runs + 1):\n",
    "            if i % 10 == 0:\n",
    "                t = round(time.time() - start, 3)\n",
    "                print(\"run {}: {}s\".format(i, t))\n",
    "            v2 = util.NB_DataHandler(amazon, imdb, yelp)\n",
    "            res = v2.test()\n",
    "            if res >= max_res:\n",
    "                max_res = res\n",
    "                model = v2\n",
    "                run = i\n",
    "            vals.append(res)\n",
    "\n",
    "        avg = sum(vals) / len(vals)\n",
    "        finish = time.time() - start\n",
    "        print(\"Max accuracy on run {}:\\t{}% \\nAverage accuracy: {}% \\ntime: {}m:{}s\"\n",
    "              .format(run, round(max(vals), 3), round(avg, 3), int((finish)/60), int((finish)%60)))\n",
    "\n",
    "        model.save()\n",
    "\n",
    "\n",
    "        r = input(\"Do you wish to display Accuracy plot?\\n[Y/N]: \")\n",
    "        if r.lower() == \"y\":\n",
    "            plt.plot(vals)\n",
    "            plt.show()"
   ]
  },
  {
   "cell_type": "code",
   "execution_count": null,
   "metadata": {},
   "outputs": [],
   "source": [
    "if model:\n",
    "    print(\"beginning unit test on file: {}\\n====================================================\\n.......\\n\".format(\n",
    "        test_file))\n",
    "\n",
    "    test_res = model.unit_test(test_file)\n",
    "\n",
    "    print(\"Unit test Complete!\\nPlease open results_file.txt for results.\\n\")\n",
    "\n",
    "    print(\"Do you wish to see a detailed report?\\nThis will show how the model behaved on each sentences\")\n",
    "    i = input(\"[Y/N]: \")\n",
    "\n",
    "    if i.lower() == \"y\":\n",
    "        model.unit_test(test_file, True)\n",
    "else:\n",
    "    print(\"\\nNo Loaded model.\\nPlease ensure either training files or a valid model is available and try again.\")\n",
    "\n",
    "print(\"End of program\")\n"
   ]
  },
  {
   "cell_type": "code",
   "execution_count": null,
   "metadata": {},
   "outputs": [],
   "source": []
  }
 ],
 "metadata": {
  "kernelspec": {
   "display_name": "Python 3",
   "language": "python",
   "name": "python3"
  },
  "language_info": {
   "codemirror_mode": {
    "name": "ipython",
    "version": 3
   },
   "file_extension": ".py",
   "mimetype": "text/x-python",
   "name": "python",
   "nbconvert_exporter": "python",
   "pygments_lexer": "ipython3",
   "version": "3.6.2"
  }
 },
 "nbformat": 4,
 "nbformat_minor": 2
}
