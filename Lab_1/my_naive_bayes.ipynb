{
 "cells": [
  {
   "cell_type": "markdown",
   "metadata": {},
   "source": [
    "# Naive Bayes Sentiment Classification Program"
   ]
  },
  {
   "cell_type": "code",
   "execution_count": 2,
   "metadata": {
    "scrolled": true
   },
   "outputs": [
    {
     "name": "stdout",
     "output_type": "stream",
     "text": [
      "Input Unit test file name: \n",
      "amazon_cells_labelled.txt Finished on line 1000 with 10202 words\n",
      "==========================\n",
      "\n",
      "imdb_labelled.txt Finished on line 1000 with 14300 words\n",
      "==========================\n",
      "\n",
      "yelp_labelled.txt Finished on line 1000 with 10848 words\n",
      "==========================\n",
      "\n",
      "=====Summary=====\n",
      "Unique words:\t -> 3417\n",
      "Total words:\t -> 28231\n",
      "Total data:\t -> 3000\n",
      "Train data:\t -> 2400\n",
      "Test data:\t -> 600\n",
      "\n",
      "31 words removed from vocabulary\n",
      "Log probabilities calculated\n",
      "Initial Train Accuracy:\t81.167%\n"
     ]
    }
   ],
   "source": [
    "# unit test classifier \n",
    "from util import NB_DataHandler\n",
    "import sys\n",
    "import time\n",
    "import matplotlib.pyplot as plt\n",
    "\n",
    "amazon = \"amazon_cells_labelled.txt\"\n",
    "imdb = \"imdb_labelled.txt\"\n",
    "yelp = \"yelp_labelled.txt\"\n",
    "test_file = input(\"Input Unit test file name: \")\n",
    "\n",
    "v2 = NB_DataHandler(amazon, imdb, yelp, quiet=False)\n",
    "res = v2.test()\n",
    "print(\"Initial Train Accuracy:\\t{}%\".format(str(round(res,3))))"
   ]
  },
  {
   "cell_type": "code",
   "execution_count": null,
   "metadata": {},
   "outputs": [],
   "source": [
    "# test accuracy over several runs\n",
    "print(\"Selecting best model for unit testing...\\n\")\n",
    "runs = 100\n",
    "run = None\n",
    "max_res = 0\n",
    "model = None\n",
    "vals = []\n",
    "start = time.time()\n",
    "for i in range(1, runs+1):\n",
    "    if i%10 == 0:\n",
    "        t = round(time.time() - start,3)\n",
    "        print(\"run {}: {}s\".format(i, t))\n",
    "    v2 = NB_DataHandler(amazon, imdb, yelp)\n",
    "    res = v2.test()\n",
    "    if res >= max_res:\n",
    "        max_res = res\n",
    "        model = v2\n",
    "        run = i\n",
    "    vals.append(res)\n",
    "    \n",
    "\n",
    "avg = sum(vals)/len(vals)\n",
    "finish = time.time()-start\n",
    "print(\"Max accuracy on run {}:\\t{} average accuracy: {}% \\ntime: {}s\"\n",
    "      .format(run, round(max(vals),3), round(avg, 3), round(finish,3)))\n",
    "\n",
    "r = input(\"Do you wish to display Accuracy plot?\\n[Y/N]: \")\n",
    "if r.lower() == \"y\":\n",
    "    plt.plot(vals)\n",
    "    plt.show()"
   ]
  },
  {
   "cell_type": "code",
   "execution_count": null,
   "metadata": {},
   "outputs": [],
   "source": [
    "print(\"beginning unit test on file: {}\\n====================================================\\n.......\\n\"format(test_file))\n",
    "\n",
    "test_res = model.unit_test(test_file)\n",
    "\n",
    "print(\"Unit test Accuracy:\\t{}%\\n\".format(round(test_res,3)))\n",
    "\n",
    "print(\"Do you wish to see mssclasification report?\\nThis will show how the model behaved on missclasified sentences\")\n",
    "i = input(\"[Y/N]: \")\n",
    "\n",
    "if i.lower() == \"y\":\n",
    "    model.report()\n",
    "\n",
    "print(\"End of program\")\n"
   ]
  },
  {
   "cell_type": "code",
   "execution_count": null,
   "metadata": {},
   "outputs": [],
   "source": []
  }
 ],
 "metadata": {
  "kernelspec": {
   "display_name": "Python 3",
   "language": "python",
   "name": "python3"
  },
  "language_info": {
   "codemirror_mode": {
    "name": "ipython",
    "version": 3
   },
   "file_extension": ".py",
   "mimetype": "text/x-python",
   "name": "python",
   "nbconvert_exporter": "python",
   "pygments_lexer": "ipython3",
   "version": "3.6.2"
  }
 },
 "nbformat": 4,
 "nbformat_minor": 2
}
